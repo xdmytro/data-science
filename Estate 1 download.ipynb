{
 "cells": [
  {
   "cell_type": "code",
   "execution_count": null,
   "id": "08149bdb",
   "metadata": {},
   "outputs": [],
   "source": [
    "from urllib.request import urlopen\n",
    "import re\n",
    "import json\n",
    "import pandas as pd"
   ]
  },
  {
   "cell_type": "code",
   "execution_count": null,
   "id": "7e5649e7",
   "metadata": {},
   "outputs": [],
   "source": [
    "def read_page(url):\n",
    "    page = urlopen(url)\n",
    "    html_bytes = page.read()\n",
    "    html = html_bytes.decode(\"utf-8\")\n",
    "    return html    \n",
    "\n",
    "def read_sitemap(url, start):\n",
    "    sitemap = read_page(url)    \n",
    "    regex = '<loc>'+start+'([^<]*)</loc>'\n",
    "    matches = re.findall(regex, sitemap)\n",
    "    keys = [match for match in matches]\n",
    "    keys.sort()\n",
    "    return keys\n",
    "\n",
    "def download_pages(keys, start, folder):\n",
    "    for key in keys:\n",
    "        try:\n",
    "            s = read_page(start+key)\n",
    "            begin = '<script id=\"__NEXT_DATA__\" type=\"application/json\">'\n",
    "            end = '</script>'\n",
    "            i = s.find(begin)\n",
    "            if i > 0:\n",
    "                j = s.find(end, i)\n",
    "                ss = s[(i+len(begin)):j]\n",
    "                data = json.loads(ss)\n",
    "                data = data['props']['initialProps']['pageProps']['estate']\n",
    "                with open('{}/{}'.format(folder, key), 'w', encoding='utf-8') as f:\n",
    "                    f.write(json.dumps(data))\n",
    "            else:\n",
    "                print(key)\n",
    "        except Exception as e:\n",
    "            print(key, str(e))"
   ]
  },
  {
   "cell_type": "code",
   "execution_count": null,
   "id": "718ceb03",
   "metadata": {},
   "outputs": [],
   "source": [
    "keys = read_sitemap('https://www.krogsveen.no/sitemap.xml','https://www.krogsveen.no/kjope/boliger-til-salgs/')\n",
    "download_pages(keys, 'https://www.krogsveen.no/kjope/boliger-til-salgs/', 'data')"
   ]
  }
 ],
 "metadata": {
  "kernelspec": {
   "display_name": "Python 3 (ipykernel)",
   "language": "python",
   "name": "python3"
  },
  "language_info": {
   "codemirror_mode": {
    "name": "ipython",
    "version": 3
   },
   "file_extension": ".py",
   "mimetype": "text/x-python",
   "name": "python",
   "nbconvert_exporter": "python",
   "pygments_lexer": "ipython3",
   "version": "3.9.12"
  }
 },
 "nbformat": 4,
 "nbformat_minor": 5
}
