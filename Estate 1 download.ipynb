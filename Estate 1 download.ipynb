{
 "cells": [
  {
   "cell_type": "code",
   "execution_count": 2,
   "id": "08149bdb",
   "metadata": {},
   "outputs": [],
   "source": [
    "import re\n",
    "import json\n",
    "import pandas as pd\n",
    "from urllib.request import urlopen\n",
    "from os import path"
   ]
  },
  {
   "cell_type": "code",
   "execution_count": 3,
   "id": "7e5649e7",
   "metadata": {},
   "outputs": [],
   "source": [
    "def read_page(url):\n",
    "    page = urlopen(url)\n",
    "    html_bytes = page.read()\n",
    "    html = html_bytes.decode(\"utf-8\")\n",
    "    return html    \n",
    "\n",
    "def read_sitemap(url, start):\n",
    "    sitemap = read_page(url)    \n",
    "    regex = '<loc>'+start+'([^<]*)</loc>'\n",
    "    matches = re.findall(regex, sitemap)\n",
    "    keys = [match for match in matches]\n",
    "    keys.sort()\n",
    "    return keys\n",
    "\n",
    "def get_delta(keys, pickle):\n",
    "    if not path.exists(pickle):\n",
    "        return keys\n",
    "    df = pd.read_pickle(pickle)\n",
    "    done = df[df['status']==3]['estateId'].values\n",
    "    return [key for key in keys if key not in done]\n",
    "\n",
    "def download_pages(keys, start, folder):\n",
    "    for key in keys:\n",
    "        try:\n",
    "            s = read_page(start+key)\n",
    "            begin = '<script id=\"__NEXT_DATA__\" type=\"application/json\">'\n",
    "            end = '</script>'\n",
    "            i = s.find(begin)\n",
    "            if i > 0:\n",
    "                j = s.find(end, i)\n",
    "                ss = s[(i+len(begin)):j]\n",
    "                data = json.loads(ss)\n",
    "                data = data['props']['initialProps']['pageProps']['estate']\n",
    "                with open('{}/{}.json'.format(folder, key), 'w', encoding='utf-8') as f:\n",
    "                    f.write(json.dumps(data))\n",
    "            else:\n",
    "                print(key)\n",
    "        except Exception as e:\n",
    "            print(key, str(e))"
   ]
  },
  {
   "cell_type": "code",
   "execution_count": 4,
   "id": "718ceb03",
   "metadata": {},
   "outputs": [
    {
     "name": "stdout",
     "output_type": "stream",
     "text": [
      "1145\n"
     ]
    }
   ],
   "source": [
    "# download new entries and reload not sold estate\n",
    "\n",
    "keys = read_sitemap('https://www.krogsveen.no/sitemap.xml','https://www.krogsveen.no/kjope/boliger-til-salgs/')\n",
    "keys = get_delta(keys, 'assets/Krogsveen.pkl')\n",
    "print(len(keys))\n",
    "\n",
    "download_pages(keys, 'https://www.krogsveen.no/kjope/boliger-til-salgs/', 'data')"
   ]
  }
 ],
 "metadata": {
  "kernelspec": {
   "display_name": "Python 3 (ipykernel)",
   "language": "python",
   "name": "python3"
  },
  "language_info": {
   "codemirror_mode": {
    "name": "ipython",
    "version": 3
   },
   "file_extension": ".py",
   "mimetype": "text/x-python",
   "name": "python",
   "nbconvert_exporter": "python",
   "pygments_lexer": "ipython3",
   "version": "3.9.12"
  }
 },
 "nbformat": 4,
 "nbformat_minor": 5
}
