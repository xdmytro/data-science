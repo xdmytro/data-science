{
 "cells": [
  {
   "cell_type": "markdown",
   "id": "e1cefea8",
   "metadata": {},
   "source": [
    "# 5 Year Survival"
   ]
  },
  {
   "cell_type": "markdown",
   "id": "5c38834c",
   "metadata": {},
   "source": [
    "The probablity of surviving next $g$ years (if one is already $x$ year old)\n",
    "$$P(X > x + g|X > x) = \\dfrac{P(X > x + g)}{P(X > x)}=\\dfrac{S_{x+g}}{S_{x}}$$\n",
    "where $X$ - age of death\n"
   ]
  },
  {
   "cell_type": "code",
   "execution_count": 1,
   "id": "9ea7d59e",
   "metadata": {},
   "outputs": [],
   "source": [
    "import numpy as np\n",
    "import pandas as pd\n",
    "import matplotlib.pyplot as plt\n",
    "#pd.set_option('display.max_rows', 500)"
   ]
  },
  {
   "cell_type": "code",
   "execution_count": 2,
   "id": "c34a82f0",
   "metadata": {},
   "outputs": [
    {
     "data": {
      "text/plain": [
       "count    56694.000000\n",
       "mean        80.098405\n",
       "std         12.344457\n",
       "min          0.000000\n",
       "25%         74.000000\n",
       "50%         82.000000\n",
       "75%         89.000000\n",
       "max        114.000000\n",
       "dtype: float64"
      ]
     },
     "execution_count": 2,
     "metadata": {},
     "output_type": "execute_result"
    }
   ],
   "source": [
    "df = pd.read_excel('assets/lifetime.xlsx')\n",
    "d = df.apply(lambda x: (x.DATE1 - x.BIRTHDATE).days/365.25, axis=1)\n",
    "d.dropna(inplace=True)\n",
    "d = d[(d>0)&(d<120)].astype(int)\n",
    "d.describe()"
   ]
  },
  {
   "cell_type": "code",
   "execution_count": 3,
   "id": "bca10b54",
   "metadata": {},
   "outputs": [
    {
     "data": {
      "image/png": "[encoded data removed]",
      "text/plain": [
       "<Figure size 720x504 with 1 Axes>"
      ]
     },
     "metadata": {
      "needs_background": "light"
     },
     "output_type": "display_data"
    }
   ],
   "source": [
    "plt.figure(figsize=(10, 7))\n",
    "plt.hist(d, bins=d.max());\n",
    "plt.ylabel('Frequency')\n",
    "plt.xlabel('Age')\n",
    "plt.title('Lifetime')\n",
    "plt.show()"
   ]
  },
  {
   "cell_type": "code",
   "execution_count": 4,
   "id": "f1b032f3",
   "metadata": {},
   "outputs": [],
   "source": [
    "g=5\n",
    "\n",
    "c = d.value_counts()\n",
    "\n",
    "# add zeros for missing values and calculate cumulative sum\n",
    "index = pd.RangeIndex(start=c.index.min(), stop=c.index.max()+g+1, step=1, name=\"year\")\n",
    "s = pd.Series(c, index=index).fillna(0).sort_index(ascending=False).cumsum()\n",
    "\n",
    "# join with a shifted array and reindex\n",
    "l = len(s)\n",
    "s5 = s[0:l-g]\n",
    "s0 = s[g:l]\n",
    "s5.index=s5.index-g\n",
    "\n",
    "p = s5/s0"
   ]
  },
  {
   "cell_type": "code",
   "execution_count": 5,
   "id": "ed53cf9b",
   "metadata": {},
   "outputs": [
    {
     "data": {
      "text/html": [
       "<div>\n",
       "<style scoped>\n",
       "    .dataframe tbody tr th:only-of-type {\n",
       "        vertical-align: middle;\n",
       "    }\n",
       "\n",
       "    .dataframe tbody tr th {\n",
       "        vertical-align: top;\n",
       "    }\n",
       "\n",
       "    .dataframe thead th {\n",
       "        text-align: right;\n",
       "    }\n",
       "</style>\n",
       "<table border=\"1\" class=\"dataframe\">\n",
       "  <thead>\n",
       "    <tr style=\"text-align: right;\">\n",
       "      <th></th>\n",
       "      <th>cumsum</th>\n",
       "      <th>result</th>\n",
       "    </tr>\n",
       "    <tr>\n",
       "      <th>year</th>\n",
       "      <th></th>\n",
       "      <th></th>\n",
       "    </tr>\n",
       "  </thead>\n",
       "  <tbody>\n",
       "    <tr>\n",
       "      <th>114</th>\n",
       "      <td>1.0</td>\n",
       "      <td>0.000000</td>\n",
       "    </tr>\n",
       "    <tr>\n",
       "      <th>113</th>\n",
       "      <td>1.0</td>\n",
       "      <td>0.000000</td>\n",
       "    </tr>\n",
       "    <tr>\n",
       "      <th>112</th>\n",
       "      <td>1.0</td>\n",
       "      <td>0.000000</td>\n",
       "    </tr>\n",
       "    <tr>\n",
       "      <th>111</th>\n",
       "      <td>1.0</td>\n",
       "      <td>0.000000</td>\n",
       "    </tr>\n",
       "    <tr>\n",
       "      <th>110</th>\n",
       "      <td>2.0</td>\n",
       "      <td>0.000000</td>\n",
       "    </tr>\n",
       "    <tr>\n",
       "      <th>109</th>\n",
       "      <td>3.0</td>\n",
       "      <td>0.333333</td>\n",
       "    </tr>\n",
       "    <tr>\n",
       "      <th>108</th>\n",
       "      <td>5.0</td>\n",
       "      <td>0.200000</td>\n",
       "    </tr>\n",
       "    <tr>\n",
       "      <th>107</th>\n",
       "      <td>7.0</td>\n",
       "      <td>0.142857</td>\n",
       "    </tr>\n",
       "    <tr>\n",
       "      <th>106</th>\n",
       "      <td>14.0</td>\n",
       "      <td>0.071429</td>\n",
       "    </tr>\n",
       "    <tr>\n",
       "      <th>105</th>\n",
       "      <td>28.0</td>\n",
       "      <td>0.071429</td>\n",
       "    </tr>\n",
       "    <tr>\n",
       "      <th>104</th>\n",
       "      <td>50.0</td>\n",
       "      <td>0.060000</td>\n",
       "    </tr>\n",
       "    <tr>\n",
       "      <th>103</th>\n",
       "      <td>109.0</td>\n",
       "      <td>0.045872</td>\n",
       "    </tr>\n",
       "    <tr>\n",
       "      <th>102</th>\n",
       "      <td>197.0</td>\n",
       "      <td>0.035533</td>\n",
       "    </tr>\n",
       "    <tr>\n",
       "      <th>101</th>\n",
       "      <td>334.0</td>\n",
       "      <td>0.041916</td>\n",
       "    </tr>\n",
       "    <tr>\n",
       "      <th>100</th>\n",
       "      <td>578.0</td>\n",
       "      <td>0.048443</td>\n",
       "    </tr>\n",
       "  </tbody>\n",
       "</table>\n",
       "</div>"
      ],
      "text/plain": [
       "      cumsum    result\n",
       "year                  \n",
       "114      1.0  0.000000\n",
       "113      1.0  0.000000\n",
       "112      1.0  0.000000\n",
       "111      1.0  0.000000\n",
       "110      2.0  0.000000\n",
       "109      3.0  0.333333\n",
       "108      5.0  0.200000\n",
       "107      7.0  0.142857\n",
       "106     14.0  0.071429\n",
       "105     28.0  0.071429\n",
       "104     50.0  0.060000\n",
       "103    109.0  0.045872\n",
       "102    197.0  0.035533\n",
       "101    334.0  0.041916\n",
       "100    578.0  0.048443"
      ]
     },
     "execution_count": 5,
     "metadata": {},
     "output_type": "execute_result"
    }
   ],
   "source": [
    "pd.DataFrame({'cumsum':s0, 'result':p}).head(15)"
   ]
  },
  {
   "cell_type": "code",
   "execution_count": 6,
   "id": "c5c37d07",
   "metadata": {},
   "outputs": [
    {
     "data": {
      "image/png": "[encoded data removed]",
      "text/plain": [
       "<Figure size 720x504 with 1 Axes>"
      ]
     },
     "metadata": {
      "needs_background": "light"
     },
     "output_type": "display_data"
    }
   ],
   "source": [
    "fig,ax = plt.subplots(figsize=(10, 7))\n",
    "\n",
    "plt.title('Chances of {} years survival depending on the persons age'.format(g))\n",
    "plt.ylabel('Probability')\n",
    "plt.xlabel('Age')\n",
    "plt.plot(p.index, p)\n",
    "plt.xlim(0, 114)\n",
    "plt.ylim(0, 1)\n",
    "plt.yticks(np.arange(0, 1, 0.1))\n",
    "plt.xticks(np.arange(0, 115, g))\n",
    "plt.grid(color='lightgrey', linestyle='-', linewidth=1)\n",
    "\n",
    "for i in range(50,114,g):\n",
    "    plt.text(i, p.loc[i], '{:.0%}'.format(p.loc[i]))\n",
    "plt.show()"
   ]
  }
 ],
 "metadata": {
  "kernelspec": {
   "display_name": "Python 3 (ipykernel)",
   "language": "python",
   "name": "python3"
  },
  "language_info": {
   "codemirror_mode": {
    "name": "ipython",
    "version": 3
   },
   "file_extension": ".py",
   "mimetype": "text/x-python",
   "name": "python",
   "nbconvert_exporter": "python",
   "pygments_lexer": "ipython3",
   "version": "3.9.12"
  }
 },
 "nbformat": 4,
 "nbformat_minor": 5
}
