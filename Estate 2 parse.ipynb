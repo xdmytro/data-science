{
 "cells": [
  {
   "cell_type": "code",
   "execution_count": null,
   "id": "89b3404e",
   "metadata": {},
   "outputs": [],
   "source": [
    "import os\n",
    "import json\n",
    "import pandas as pd"
   ]
  },
  {
   "cell_type": "code",
   "execution_count": null,
   "id": "ac9a9184",
   "metadata": {},
   "outputs": [],
   "source": [
    "FIELDS =  [\n",
    " 'estateId',\n",
    " 'estateType',\n",
    " 'noOfBathRooms', 'noOfBedRooms', 'noOfRooms',\n",
    " 'floor', 'primaryRoomArea', 'usableArea', 'grossArea',\n",
    " 'owned', 'size', 'inSettlement',\n",
    " 'energyColorCode', 'energyLetter',\n",
    " 'estateBackOfficeStatusGroup', 'estateBaseType',\n",
    " 'constructionYear',\n",
    " 'commissionAcceptedDate', 'contractMeetingDate', 'createdDate', \n",
    " 'availableDate', 'finnPublishDate', 'soldDate', 'takeOverDate',\n",
    " 'odel', 'ownership',\n",
    " 'liveAndManagementDuty', 'status',\n",
    " 'estateSettlementStatusGroup',\n",
    " 'collectiveAssets', 'collectiveDebt',\n",
    " 'priceSuggestion', 'purchaseCostsAmount',\n",
    " 'soldPrice', 'totalPrice', 'totalPriceExclusiveCostsAndDebt',\n",
    " 'additionalAgreementOptions',\n",
    " 'communityTax', 'communityTaxYear',\n",
    " 'estimatedValue', 'leasingPartyTransportFee', 'loanFare',\n",
    " 'originalAgreementPrice', 'originalExpensesPrice',\n",
    " 'transportAgreementCosts', 'waterRate', 'waterRateYear',\n",
    " 'yearlyLeaseFee', 'yearlySocietyTax', 'rentPrMonth',\n",
    " 'primaryValue', 'primaryYear', 'secondaryValue', 'secondaryYear',\n",
    " 'municipality', 'municipalityId',\n",
    " 'city', 'streetAdress', 'zipCode',\n",
    " 'latitude', 'longitude', \n",
    " 'name']"
   ]
  },
  {
   "cell_type": "code",
   "execution_count": null,
   "id": "78a32764",
   "metadata": {},
   "outputs": [],
   "source": [
    "def get_list(path):\n",
    "    files = [f for f in os.listdir(path) if f.endswith('.json')]\n",
    "    return files\n",
    "\n",
    "def flatten(obj, name, row, fields):\n",
    "    if type(obj) is dict:\n",
    "        for prop in obj:\n",
    "            flatten(obj[prop], prop, row, fields)\n",
    "    elif type(obj) is list:\n",
    "        pass\n",
    "    else:\n",
    "        if fields == None or name in fields:\n",
    "            row[name] = obj\n",
    "\n",
    "def parse_file(folder, file, fields):\n",
    "    with open('{}/{}'.format(folder, file), encoding='utf-8') as json_file:\n",
    "        data = json.load(json_file)\n",
    "        row = dict()\n",
    "        flatten(data, None, row, fields)\n",
    "        return row\n",
    "    \n",
    "def parse_folder(folder, pickle, fields):\n",
    "    files = get_list(folder)\n",
    "    rows = list()\n",
    "    for file in files:\n",
    "        rows.append(parse_file(folder, file, fields))\n",
    "    df = pd.DataFrame(rows)\n",
    "    df.to_pickle(pickle)"
   ]
  },
  {
   "cell_type": "code",
   "execution_count": null,
   "id": "5e6726c4",
   "metadata": {},
   "outputs": [],
   "source": [
    "#parse_file('data', '000EA688-20DD-415D-8914-26D7955E6EA6.json', None)"
   ]
  },
  {
   "cell_type": "code",
   "execution_count": null,
   "id": "994f9cf7",
   "metadata": {},
   "outputs": [],
   "source": [
    "parse_folder('data', 'assets/Krogsveen.pkl', FIELDS)"
   ]
  }
 ],
 "metadata": {
  "kernelspec": {
   "display_name": "Python 3 (ipykernel)",
   "language": "python",
   "name": "python3"
  },
  "language_info": {
   "codemirror_mode": {
    "name": "ipython",
    "version": 3
   },
   "file_extension": ".py",
   "mimetype": "text/x-python",
   "name": "python",
   "nbconvert_exporter": "python",
   "pygments_lexer": "ipython3",
   "version": "3.9.12"
  }
 },
 "nbformat": 4,
 "nbformat_minor": 5
}
