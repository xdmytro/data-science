{
 "cells": [
  {
   "cell_type": "markdown",
   "id": "27ca1d31",
   "metadata": {},
   "source": [
    "## Probability\n",
    "$$\n",
    "x \\in \\Omega\n",
    "$$\n",
    "\n",
    "$$\n",
    "p: \\Omega \\mapsto \\mathbb{R} : p(x) \\ge 0, \\sum_{x \\in \\Omega} p(x) = 1\n",
    "$$\n",
    "\n",
    "$$\n",
    "A \\subset \\Omega, p(A)=\\sum_{x \\in A} p(x)\n",
    "$$"
   ]
  },
  {
   "cell_type": "markdown",
   "id": "ea24d79b",
   "metadata": {},
   "source": [
    "$$\n",
    "A \\cap B = \\varnothing \\Rightarrow P(A \\cup B)=P(A)+P(B)\n",
    "$$\n",
    "\n",
    "$$\n",
    "P(A \\cup B)=P(A)+P(B)-P(A \\cap B)\n",
    "$$"
   ]
  },
  {
   "cell_type": "markdown",
   "id": "fb27d203",
   "metadata": {},
   "source": [
    "$$\n",
    "P(A|B) = \\frac{P(A \\cap B)}{P(B)} = \\frac{P(B|A) P(A)}{P(B)}\n",
    "$$"
   ]
  },
  {
   "cell_type": "markdown",
   "id": "2b56ce7a",
   "metadata": {},
   "source": [
    "$$\n",
    "p(\\varnothing)=0\n",
    "$$\n",
    "\n",
    "$$\n",
    "P(\\text{false})=P\\{X \\in \\Omega : \\text{false}\\}=P(\\varnothing)=0\n",
    "$$"
   ]
  },
  {
   "cell_type": "markdown",
   "id": "b78c07eb",
   "metadata": {},
   "source": [
    "## Bernoulli\n",
    "$$\n",
    "P(X=x) = \\left\\{\n",
    "    \\begin{array}\\\\\n",
    "        p & \\mbox{if } x=1 \\\\        \n",
    "        1-p & \\mbox{if } x=0\n",
    "    \\end{array}\n",
    "\\right.\n",
    "$$"
   ]
  },
  {
   "cell_type": "markdown",
   "id": "317b7e58",
   "metadata": {},
   "source": [
    "## Geometric\n",
    "$$\n",
    "P(k) = p (1-p)^k\n",
    "$$"
   ]
  },
  {
   "cell_type": "markdown",
   "id": "67a3d85c",
   "metadata": {},
   "source": [
    "## Binomial\n",
    "$$\n",
    "P(k;n)=C_{k}^{n}p^k(1-p)^{n-k}\n",
    "$$"
   ]
  },
  {
   "cell_type": "markdown",
   "id": "a43e62b5",
   "metadata": {},
   "source": [
    "### Derivation of Binomial from Bernoulli\n",
    "$$\n",
    "\\begin{align*}\n",
    "P\\left(\\sum_{i=1}^{n}X_i=k\\right)\n",
    "&=\\sum_{x_n}P\\left(\\sum_{i=1}^{n-1}X_i+x_n=k,X_n=x_n\\right) \\\\\n",
    "&=\\sum_{x_n}P\\left(\\sum_{i=1}^{n-1}X_i+x_n=k|X_n=x_n\\right)P(X_n=x_n) \\\\\n",
    "&= \\sum_{x_1...x_n}\\mathbb{1}\\left[\\sum_{i=1}^{n}x_i=k\\right]P(X_1=x_1)...P(X_n=x_n) \\\\\n",
    "&= \\sum_{x_1...x_n: x_1+..+x_n=k}P(X_1=x_1)...P(X_n=x_n) \\\\\n",
    "&= \\sum_{x_1...x_n: x_1+..+x_n=k}p^k(1-p)^{n-k} \\\\\n",
    "&= \\left(\\sum_{x_1...x_n: x_1+..+x_n=k} 1\\right)p^k(1-p)^{n-k} \\\\\n",
    "&=C_{k}^{n} p^k (1-p)^{n-k}\n",
    "\\end{align*}\n",
    "$$"
   ]
  },
  {
   "cell_type": "markdown",
   "id": "e8df040c",
   "metadata": {},
   "source": [
    "## Poisson\n",
    "$$\n",
    "P(k;\\mu) = \\frac{\\mu^k e^{-\\mu}}{k!}\n",
    "$$"
   ]
  },
  {
   "cell_type": "markdown",
   "id": "27595e10",
   "metadata": {},
   "source": [
    "### Derivation of Poisson from Binomial\n",
    "We expect $\\mu$ occurrences on the interval split into n bins, so $p=\\mu/n$\n",
    "$$\n",
    "P(k;\\mu)=\\lim_{n\\to\\infty} P(k; n, \\mu/n)\n",
    "$$\n",
    "\n",
    "$$\n",
    "\\begin{align}\n",
    "C_{k}^{n} {\\left(\\frac{\\mu}{n}\\right)}^k\\left(1-\\left(\\frac{\\mu}{n}\\right)\\right)^{n-k}\n",
    "&=\\frac{n!}{k!(n-k)!} \\frac{\\mu^k}{n^k}\\left(1-\\frac{\\mu}{n}\\right)^{n-k}\\\\\n",
    "&=\\frac{\\mu^k}{k!} \\frac{n!}{(n-k)!} \\frac{1}{n^k} e^{(n-k) \\ln \\left(1-\\frac{\\mu}{n}\\right)}\\\\\n",
    "&\\sim \\frac{\\mu^k}{k!} \\frac{n!}{(n-k)!} \\frac{1}{n^k} e^{-(n-k) \\frac{\\mu}{n}}\\\\\n",
    "&= \\frac{\\mu^k e^{-\\mu}}{k!} \\frac{n!}{(n-k)!} \\frac{1}{n^k} e^{\\mu \\frac{k}{n}} \\rightarrow \\frac{\\mu^k e^{-\\mu}}{k!}\n",
    "\\end{align}\n",
    "$$\n",
    "\n",
    "$$\n",
    "(n-k)^k \\le \\frac{n!}{(n-k)!} = (n-k+1)(n-k+2)...n \\le n^k \\Rightarrow \\frac{n!}{(n-k)! n^k} \\rightarrow 1\n",
    "$$"
   ]
  },
  {
   "cell_type": "markdown",
   "id": "108166a9",
   "metadata": {},
   "source": [
    "## Exponential\n",
    "$$\n",
    "p(t;\\lambda)=\\lambda e^{-\\lambda t}\n",
    "$$\n",
    "\n",
    "$$\n",
    "P(T < t)=1-e^{-\\lambda t}\n",
    "$$"
   ]
  },
  {
   "cell_type": "markdown",
   "id": "7bcc819c",
   "metadata": {},
   "source": [
    "### Derivation of Exponential from Geometric\n",
    "$$\n",
    "P(k)=p (1-p)^k\n",
    "$$\n",
    "\n",
    "$$\n",
    "P(K>=k)=\\sum_{i>=k} p (1-p)^i=p (1-p)^k \\sum_{i>=0} (1-p)^i = p (1-p)^k \\frac{1}{p} = (1-p)^k\n",
    "$$\n",
    "\n",
    "$$\n",
    "k = \\lfloor n t \\rfloor, p = \\frac{\\lambda}{n}\n",
    "$$\n",
    "\n",
    "$$\n",
    "n t - 1 \\le \\lfloor n t \\rfloor \\le n t, t \\in \\mathbb{R} \\Rightarrow  \\frac{\\lfloor n t \\rfloor}{nt} \\rightarrow 1\n",
    "$$\n",
    "\n",
    "$$\n",
    "P(T>=t) \\sim \\left(1-\\frac{\\lambda}{n}\\right)^{\\lfloor n t \\rfloor} \n",
    "= e^{\\lfloor n t \\rfloor \\ln \\left(1-\\frac{\\lambda}{n}\\right)} \\sim \n",
    "e^{\\lfloor n t \\rfloor \\left(-\\frac{\\lambda}{n}\\right)} \\rightarrow e^{- t \\lambda} \n",
    "$$\n",
    "\n",
    "$$\n",
    "\\Delta t = \\frac{k+1}{n} - \\frac{k}{n} = \\frac{1}{n}\n",
    "$$\n",
    "\n",
    "$$\n",
    "p(t)=\\frac{\\text{d} P(t)}{\\text{d} t} = \\frac{P(t+\\Delta t)-P(t)}{\\Delta t} = \\frac{P(k)}{\\frac{1}{n}} = n P(k) = n \\frac{\\lambda}{n} \\left(1-\\frac{\\lambda}{n}\\right)^{\\lfloor n t \\rfloor} \\rightarrow \\lambda e^{-\\lambda t}\n",
    "$$"
   ]
  },
  {
   "cell_type": "markdown",
   "id": "eefb1204",
   "metadata": {},
   "source": [
    "## Normal\n",
    "\n",
    "$$\n",
    "p(x; \\mu, \\sigma) = \\frac{1}{\\sigma \\sqrt{2 \\pi}} e^{ \\frac{1}{2} \\left(\\frac{x-\\mu}{\\sigma}\\right)^2}\n",
    "$$"
   ]
  },
  {
   "cell_type": "markdown",
   "id": "5150b055",
   "metadata": {},
   "source": [
    "### Normal and Binomial\n",
    "Stirling's formula\n",
    "$$\n",
    "n! \\sim \\frac{n^n}{e^n} \\sqrt{2 \\pi n}\n",
    "$$"
   ]
  },
  {
   "cell_type": "markdown",
   "id": "71663e48",
   "metadata": {},
   "source": [
    "Assumption\n",
    "$$\n",
    "k − np \\sim \\sqrt{n} \\Rightarrow \\frac{k(n-k)}{n} \\sim n p q \n",
    "$$"
   ]
  },
  {
   "cell_type": "markdown",
   "id": "bf8316c1",
   "metadata": {},
   "source": [
    "Let's skip details\n",
    "$$\n",
    "C_{k}^{n} p^k q^{n-k} \\sim \\frac{1}{\\sqrt{2 \\pi n p q}} e^{ - \\frac{(k-np)^2}{2 n p q}}\n",
    "$$"
   ]
  },
  {
   "cell_type": "markdown",
   "id": "a4648a96",
   "metadata": {},
   "source": [
    "## Sample variance\n",
    "$$\n",
    "\\mu = \\frac{1}{N} \\sum_{i=1..N} x_i\n",
    "$$\n",
    "\n",
    "$$\n",
    "\\sigma = \\frac{1}{N} \\sum_{i=1..N} (x_i - \\mu)^2\n",
    "$$\n",
    "\n",
    "$$\n",
    "\\bar{x} = \\frac{1}{n} \\sum_{i=1..n} x_i\n",
    "$$\n",
    "\n",
    "$$\n",
    "S = \\frac{1}{n-1} \\sum_{i=1..n} (x_i - \\bar{x})^2\n",
    "$$"
   ]
  },
  {
   "cell_type": "markdown",
   "id": "53c4375d",
   "metadata": {},
   "source": [
    "### Proof for 2 samples \n",
    "$$\n",
    "E\\left[\\left(x_1 - \\bar{x}\\right)^2+\\left(x_2 - \\bar{x}\\right)^2\\right] \\\\\n",
    "=E\\left[\\left(x_1 - \\frac{x_1+x_2}{2}\\right)^2+\\left(x_2 - \\frac{x_1+x_2}{2}\\right)^2\\right] \n",
    "=E\\left[2\\left(\\frac{x_1 - x_2}{2}\\right)^2\\right] \n",
    "=\\frac{1}{2} E\\left[\\left(x_1 - x_2\\right)^2\\right] \\\\\n",
    "=\\frac{1}{2}E\\left[x_1^2-2 x_1 x_2+x_2^2\\right] \n",
    "=\\frac{1}{2}\\left(E x^2 - 2 (E x)^2 + E x^2\\right) =\\frac{1}{2} \\left(2 E x^2 - 2 (E x)^2\\right) \\\\\n",
    "=\\sigma\n",
    "$$"
   ]
  },
  {
   "cell_type": "markdown",
   "id": "ec76be0a",
   "metadata": {},
   "source": [
    "### Proof for n samples\n",
    "\n",
    "$$\n",
    "E\\left[\\sum_i \\left(x_i - \\bar{x}\\right)^2\\right]\n",
    "=(n-1)\\sigma \n",
    "$$\n",
    "\n",
    "$$\n",
    "\\begin{align}\n",
    "E\\left(\\sum_i \\left(x_i - \\bar{x}\\right)^2\\right)\n",
    "&=E\\left(\\sum_i x_i^2 - 2 \\sum_i x_i \\bar{x} + \\sum_i \\bar{x}^2\\right) \\\\\n",
    "&=E\\left(\\sum_i x_i^2 - 2 \\bar{x} \\sum_i x_i + n \\bar{x}^2\\right) \\\\\n",
    "&=E\\left(\\sum_i x_i^2 - 2 \\left( \\sum_j \\frac{x_j}{n} \\right) \\sum_i x_i + n \\left(\\sum_i \\frac{x_i}{n}\\right)^2 \\right) \\\\\n",
    "&=E\\left(\\sum_i x_i^2 - \\frac{1}{n} \\left( \\sum_j x_j \\right) \\left( \\sum_i x_i \\right) \\right) \\\\\n",
    "&=E\\left(\\sum_i x_i^2\\right) - \\frac{1}{n} E\\left( \\sum_j x_j^2 + \\sum_{i \\ne j} x_i x_j \\right) \\\\\n",
    "&=n E x^2 - \\frac{1}{n} \\left( n E x^2 + n (n-1) (E x)^2 \\right)\\\\\n",
    "&=(n-1) \\left( E x^2 - (E x)^2 \\right) =(n-1) \\sigma\n",
    "\\end{align}\n",
    "$$"
   ]
  },
  {
   "cell_type": "markdown",
   "id": "695dd1da",
   "metadata": {},
   "source": [
    "### Bayesian estimator\n",
    "$$\n",
    "\\frac{k+1}{n+2} \\int_{0}^{1} x^k (1-x)^{n-k} \\,dx = \\int_{0}^{1} x^{k+1} (1-x)^{n-k} \\,dx\n",
    "$$"
   ]
  },
  {
   "cell_type": "markdown",
   "id": "4c0c9a6b",
   "metadata": {},
   "source": [
    "## Confidence intervals"
   ]
  },
  {
   "cell_type": "markdown",
   "id": "f35c5ca8",
   "metadata": {},
   "source": [
    "## Bias Variance Tradeoff\n",
    "$$\n",
    "y = f(x)+\\varepsilon\n",
    "$$\n",
    "\n",
    "$$\n",
    "\\hat{f}_D(x)\n",
    "$$\n",
    "\n",
    "$$\n",
    "q = E_{D,\\varepsilon} \\left[ \\left(\\hat{f}-y\\right)^2 \\right] \n",
    "= \\left(\\hat{h} -f\\right)^2 \n",
    "+ E_{D} \\left[ \\left(\\hat{f}_D-\\hat{h}\\right)^2 \\right]\n",
    "+ \\sigma^2\n",
    "$$\n",
    "\n",
    "$$\n",
    "\\text{MSE} = E_x \\left[ q(x) \\right]\n",
    "$$\n",
    "\n",
    "$$\n",
    "\\hat{h}(x) = E_D \\left[\\hat{f}_D(x)\\right]\n",
    "$$\n"
   ]
  },
  {
   "cell_type": "markdown",
   "id": "5d73ceb4",
   "metadata": {},
   "source": [
    "## Decomposition of variability\n",
    "\n",
    "$$\n",
    "\\text{total variability of dataset} = \\text{explained variability} + \\text{unexplained variability}\n",
    "$$\n",
    "\n",
    "$$\n",
    "\\sum{(y_i - \\bar{y})^2} = \\sum{(\\hat{y}_i - \\bar{y})^2}+\\sum{(\\hat{y}_i - y_i)^2}\n",
    "$$\n",
    "\n",
    "$$\n",
    "\\text{SST} = \\text{SSR} + \\text{SSE}\n",
    "$$\n",
    "\n",
    "$$\n",
    "R^2 = \\frac{\\text{SSR}}{\\text{SST}}=1-\\frac{\\text{SSE}}{\\text{SST}}\n",
    "$$\n",
    "\n",
    "$$\n",
    "\\text{adj} R^2 = 1 - (1-R^2) \\frac{n-1}{n-k-1} = 1 - \\frac{\\text{SSE}}{\\text{SST}} \\frac{n-1}{n-k-1}\n",
    "$$"
   ]
  }
 ],
 "metadata": {
  "kernelspec": {
   "display_name": "Python 3 (ipykernel)",
   "language": "python",
   "name": "python3"
  },
  "language_info": {
   "codemirror_mode": {
    "name": "ipython",
    "version": 3
   },
   "file_extension": ".py",
   "mimetype": "text/x-python",
   "name": "python",
   "nbconvert_exporter": "python",
   "pygments_lexer": "ipython3",
   "version": "3.9.12"
  }
 },
 "nbformat": 4,
 "nbformat_minor": 5
}
