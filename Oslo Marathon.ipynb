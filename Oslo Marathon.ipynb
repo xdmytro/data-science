{
 "cells": [
  {
   "cell_type": "markdown",
   "metadata": {},
   "source": [
    "# The effect of aging on running performance"
   ]
  },
  {
   "cell_type": "code",
   "execution_count": 1,
   "metadata": {},
   "outputs": [],
   "source": [
    "import pandas as pd\n",
    "import numpy as np\n",
    "import statsmodels.api as sm\n",
    "from datetime import datetime, date, time\n",
    "import matplotlib.pyplot as plt"
   ]
  },
  {
   "cell_type": "markdown",
   "metadata": {},
   "source": [
    "### Read data"
   ]
  },
  {
   "cell_type": "code",
   "execution_count": 2,
   "metadata": {},
   "outputs": [
    {
     "data": {
      "text/html": [
       "<div>\n",
       "<style scoped>\n",
       "    .dataframe tbody tr th:only-of-type {\n",
       "        vertical-align: middle;\n",
       "    }\n",
       "\n",
       "    .dataframe tbody tr th {\n",
       "        vertical-align: top;\n",
       "    }\n",
       "\n",
       "    .dataframe thead th {\n",
       "        text-align: right;\n",
       "    }\n",
       "</style>\n",
       "<table border=\"1\" class=\"dataframe\">\n",
       "  <thead>\n",
       "    <tr style=\"text-align: right;\">\n",
       "      <th></th>\n",
       "      <th>Name</th>\n",
       "      <th>Gender</th>\n",
       "      <th>From</th>\n",
       "      <th>To</th>\n",
       "      <th>Age</th>\n",
       "      <th>Minutes</th>\n",
       "    </tr>\n",
       "  </thead>\n",
       "  <tbody>\n",
       "    <tr>\n",
       "      <th>0</th>\n",
       "      <td>Okubamichael Fissehatsion</td>\n",
       "      <td>M</td>\n",
       "      <td>24</td>\n",
       "      <td>34</td>\n",
       "      <td>29.5</td>\n",
       "      <td>64.750000</td>\n",
       "    </tr>\n",
       "    <tr>\n",
       "      <th>1</th>\n",
       "      <td>Zerei Kbrom Mezngi</td>\n",
       "      <td>M</td>\n",
       "      <td>24</td>\n",
       "      <td>34</td>\n",
       "      <td>29.5</td>\n",
       "      <td>64.900000</td>\n",
       "    </tr>\n",
       "    <tr>\n",
       "      <th>2</th>\n",
       "      <td>Senay Fissehatsion</td>\n",
       "      <td>M</td>\n",
       "      <td>22</td>\n",
       "      <td>23</td>\n",
       "      <td>23.0</td>\n",
       "      <td>65.466667</td>\n",
       "    </tr>\n",
       "    <tr>\n",
       "      <th>3</th>\n",
       "      <td>Marius Vedvik</td>\n",
       "      <td>M</td>\n",
       "      <td>24</td>\n",
       "      <td>34</td>\n",
       "      <td>29.5</td>\n",
       "      <td>65.866667</td>\n",
       "    </tr>\n",
       "    <tr>\n",
       "      <th>4</th>\n",
       "      <td>Eivind Øygard</td>\n",
       "      <td>M</td>\n",
       "      <td>24</td>\n",
       "      <td>34</td>\n",
       "      <td>29.5</td>\n",
       "      <td>66.583333</td>\n",
       "    </tr>\n",
       "  </tbody>\n",
       "</table>\n",
       "</div>"
      ],
      "text/plain": [
       "                        Name Gender  From  To   Age    Minutes\n",
       "0  Okubamichael Fissehatsion      M    24  34  29.5  64.750000\n",
       "1         Zerei Kbrom Mezngi      M    24  34  29.5  64.900000\n",
       "2         Senay Fissehatsion      M    22  23  23.0  65.466667\n",
       "3              Marius Vedvik      M    24  34  29.5  65.866667\n",
       "4              Eivind Øygard      M    24  34  29.5  66.583333"
      ]
     },
     "execution_count": 2,
     "metadata": {},
     "output_type": "execute_result"
    }
   ],
   "source": [
    "#hm1 = pd.read_excel('assets/2018.xlsx')\n",
    "#hm2 = pd.read_excel('assets/2019.xlsx')\n",
    "#dif = 1 \n",
    "\n",
    "hm1 = pd.read_excel('assets/2017.xlsx')\n",
    "hm2 = pd.read_excel('assets/2022.xlsx')\n",
    "dif = 5\n",
    "\n",
    "def cleanup(df):\n",
    "    df = df[~df['Name'].isna()] # remove empty name\n",
    "    df = df[~df['Category'].isin(['KFH','MFH',np.NaN])] # remove empty category\n",
    "    df = df[~df['Name'].duplicated()] # remove duplicate name\n",
    "    \n",
    "    def split(row):\n",
    "        category = row['Category']\n",
    "        gender = category[0:1]\n",
    "        ageFrom = int(category[1:3])\n",
    "        ageTo = int(category[4:6])\n",
    "        age = (ageFrom+ageTo+1)/2\n",
    "        return gender, ageFrom, ageTo, age\n",
    "        \n",
    "    df[['Gender','From','To', 'Age']] = df.apply(split, axis=1, result_type='expand')\n",
    "    df['Minutes'] = df.apply(lambda x: (datetime.combine(date.min, x['Time']) - datetime.min).total_seconds()/60, axis=1)\n",
    "    \n",
    "    return df[['Name','Gender','From','To','Age','Minutes']]\n",
    "    \n",
    "hm1=cleanup(hm1)\n",
    "hm2=cleanup(hm2)\n",
    "hm1.head()"
   ]
  },
  {
   "cell_type": "markdown",
   "metadata": {},
   "source": [
    "### Join results from two years by runner name"
   ]
  },
  {
   "cell_type": "code",
   "execution_count": 3,
   "metadata": {},
   "outputs": [
    {
     "data": {
      "text/html": [
       "<div>\n",
       "<style scoped>\n",
       "    .dataframe tbody tr th:only-of-type {\n",
       "        vertical-align: middle;\n",
       "    }\n",
       "\n",
       "    .dataframe tbody tr th {\n",
       "        vertical-align: top;\n",
       "    }\n",
       "\n",
       "    .dataframe thead th {\n",
       "        text-align: right;\n",
       "    }\n",
       "</style>\n",
       "<table border=\"1\" class=\"dataframe\">\n",
       "  <thead>\n",
       "    <tr style=\"text-align: right;\">\n",
       "      <th></th>\n",
       "      <th>Name</th>\n",
       "      <th>Gender_1</th>\n",
       "      <th>From_1</th>\n",
       "      <th>To_1</th>\n",
       "      <th>Age_1</th>\n",
       "      <th>Minutes_1</th>\n",
       "      <th>Gender_2</th>\n",
       "      <th>From_2</th>\n",
       "      <th>To_2</th>\n",
       "      <th>Age_2</th>\n",
       "      <th>Minutes_2</th>\n",
       "      <th>Improvement</th>\n",
       "    </tr>\n",
       "  </thead>\n",
       "  <tbody>\n",
       "    <tr>\n",
       "      <th>0</th>\n",
       "      <td>Marius Vedvik</td>\n",
       "      <td>M</td>\n",
       "      <td>24</td>\n",
       "      <td>34</td>\n",
       "      <td>29.5</td>\n",
       "      <td>65.866667</td>\n",
       "      <td>M</td>\n",
       "      <td>24</td>\n",
       "      <td>34</td>\n",
       "      <td>29.5</td>\n",
       "      <td>67.833333</td>\n",
       "      <td>-1.966667</td>\n",
       "    </tr>\n",
       "    <tr>\n",
       "      <th>1</th>\n",
       "      <td>Michael Ande Tesfamichael</td>\n",
       "      <td>M</td>\n",
       "      <td>24</td>\n",
       "      <td>34</td>\n",
       "      <td>29.5</td>\n",
       "      <td>72.933333</td>\n",
       "      <td>M</td>\n",
       "      <td>24</td>\n",
       "      <td>34</td>\n",
       "      <td>29.5</td>\n",
       "      <td>74.516667</td>\n",
       "      <td>-1.583333</td>\n",
       "    </tr>\n",
       "    <tr>\n",
       "      <th>3</th>\n",
       "      <td>Kjetil Andre Bjerkrheim</td>\n",
       "      <td>M</td>\n",
       "      <td>24</td>\n",
       "      <td>34</td>\n",
       "      <td>29.5</td>\n",
       "      <td>76.400000</td>\n",
       "      <td>M</td>\n",
       "      <td>24</td>\n",
       "      <td>34</td>\n",
       "      <td>29.5</td>\n",
       "      <td>80.916667</td>\n",
       "      <td>-4.516667</td>\n",
       "    </tr>\n",
       "    <tr>\n",
       "      <th>4</th>\n",
       "      <td>Runa Skrove Falch</td>\n",
       "      <td>K</td>\n",
       "      <td>24</td>\n",
       "      <td>34</td>\n",
       "      <td>29.5</td>\n",
       "      <td>76.500000</td>\n",
       "      <td>K</td>\n",
       "      <td>24</td>\n",
       "      <td>34</td>\n",
       "      <td>29.5</td>\n",
       "      <td>79.950000</td>\n",
       "      <td>-3.450000</td>\n",
       "    </tr>\n",
       "    <tr>\n",
       "      <th>5</th>\n",
       "      <td>Magnus Warvik</td>\n",
       "      <td>M</td>\n",
       "      <td>22</td>\n",
       "      <td>23</td>\n",
       "      <td>23.0</td>\n",
       "      <td>78.300000</td>\n",
       "      <td>M</td>\n",
       "      <td>24</td>\n",
       "      <td>34</td>\n",
       "      <td>29.5</td>\n",
       "      <td>82.983333</td>\n",
       "      <td>-4.683333</td>\n",
       "    </tr>\n",
       "  </tbody>\n",
       "</table>\n",
       "</div>"
      ],
      "text/plain": [
       "                        Name Gender_1  From_1  To_1  Age_1  Minutes_1  \\\n",
       "0              Marius Vedvik        M      24    34   29.5  65.866667   \n",
       "1  Michael Ande Tesfamichael        M      24    34   29.5  72.933333   \n",
       "3    Kjetil Andre Bjerkrheim        M      24    34   29.5  76.400000   \n",
       "4          Runa Skrove Falch        K      24    34   29.5  76.500000   \n",
       "5              Magnus Warvik        M      22    23   23.0  78.300000   \n",
       "\n",
       "  Gender_2  From_2  To_2  Age_2  Minutes_2  Improvement  \n",
       "0        M      24    34   29.5  67.833333    -1.966667  \n",
       "1        M      24    34   29.5  74.516667    -1.583333  \n",
       "3        M      24    34   29.5  80.916667    -4.516667  \n",
       "4        K      24    34   29.5  79.950000    -3.450000  \n",
       "5        M      24    34   29.5  82.983333    -4.683333  "
      ]
     },
     "execution_count": 3,
     "metadata": {},
     "output_type": "execute_result"
    }
   ],
   "source": [
    "hm = pd.merge(hm1, hm2, how='inner', left_on='Name', right_on='Name', suffixes=('_1', '_2'))\n",
    "hm['Improvement'] = hm.apply(lambda x : (x['Minutes_1']-x['Minutes_2']), axis=1)\n",
    "\n",
    "hm = hm[hm['From_1']<=hm['From_2']] # remove those who became younger\n",
    "hm = hm[hm['From_2']<=hm['To_1']+dif] # remove those who too old\n",
    "hm.head()"
   ]
  },
  {
   "cell_type": "markdown",
   "metadata": {},
   "source": [
    "### Remove outliers (1%)"
   ]
  },
  {
   "cell_type": "code",
   "execution_count": 4,
   "metadata": {},
   "outputs": [],
   "source": [
    "def remove_pct(df, f, q):\n",
    "    qmin = df[f].quantile(q/2)\n",
    "    qmax = df[f].quantile(1-q/2)\n",
    "    return df[(df[f]>=qmin) & (df[f]<=qmax)]\n",
    "    \n",
    "hm = remove_pct(hm, 'Improvement', 0.01)"
   ]
  },
  {
   "cell_type": "markdown",
   "metadata": {},
   "source": [
    "### Remove groups with lack of data"
   ]
  },
  {
   "cell_type": "code",
   "execution_count": 5,
   "metadata": {},
   "outputs": [
    {
     "data": {
      "text/html": [
       "<div>\n",
       "<style scoped>\n",
       "    .dataframe tbody tr th:only-of-type {\n",
       "        vertical-align: middle;\n",
       "    }\n",
       "\n",
       "    .dataframe tbody tr th {\n",
       "        vertical-align: top;\n",
       "    }\n",
       "\n",
       "    .dataframe thead th {\n",
       "        text-align: right;\n",
       "    }\n",
       "</style>\n",
       "<table border=\"1\" class=\"dataframe\">\n",
       "  <thead>\n",
       "    <tr style=\"text-align: right;\">\n",
       "      <th></th>\n",
       "      <th>Name</th>\n",
       "      <th>Gender_1</th>\n",
       "      <th>From_1</th>\n",
       "      <th>To_1</th>\n",
       "      <th>Age_1</th>\n",
       "      <th>Minutes_1</th>\n",
       "      <th>Gender_2</th>\n",
       "      <th>From_2</th>\n",
       "      <th>To_2</th>\n",
       "      <th>Age_2</th>\n",
       "      <th>Minutes_2</th>\n",
       "      <th>Improvement</th>\n",
       "    </tr>\n",
       "  </thead>\n",
       "  <tbody>\n",
       "    <tr>\n",
       "      <th>0</th>\n",
       "      <td>Marius Vedvik</td>\n",
       "      <td>M</td>\n",
       "      <td>24</td>\n",
       "      <td>34</td>\n",
       "      <td>29.5</td>\n",
       "      <td>65.866667</td>\n",
       "      <td>M</td>\n",
       "      <td>24</td>\n",
       "      <td>34</td>\n",
       "      <td>29.5</td>\n",
       "      <td>67.833333</td>\n",
       "      <td>-1.966667</td>\n",
       "    </tr>\n",
       "    <tr>\n",
       "      <th>1</th>\n",
       "      <td>Michael Ande Tesfamichael</td>\n",
       "      <td>M</td>\n",
       "      <td>24</td>\n",
       "      <td>34</td>\n",
       "      <td>29.5</td>\n",
       "      <td>72.933333</td>\n",
       "      <td>M</td>\n",
       "      <td>24</td>\n",
       "      <td>34</td>\n",
       "      <td>29.5</td>\n",
       "      <td>74.516667</td>\n",
       "      <td>-1.583333</td>\n",
       "    </tr>\n",
       "    <tr>\n",
       "      <th>3</th>\n",
       "      <td>Kjetil Andre Bjerkrheim</td>\n",
       "      <td>M</td>\n",
       "      <td>24</td>\n",
       "      <td>34</td>\n",
       "      <td>29.5</td>\n",
       "      <td>76.400000</td>\n",
       "      <td>M</td>\n",
       "      <td>24</td>\n",
       "      <td>34</td>\n",
       "      <td>29.5</td>\n",
       "      <td>80.916667</td>\n",
       "      <td>-4.516667</td>\n",
       "    </tr>\n",
       "    <tr>\n",
       "      <th>4</th>\n",
       "      <td>Runa Skrove Falch</td>\n",
       "      <td>K</td>\n",
       "      <td>24</td>\n",
       "      <td>34</td>\n",
       "      <td>29.5</td>\n",
       "      <td>76.500000</td>\n",
       "      <td>K</td>\n",
       "      <td>24</td>\n",
       "      <td>34</td>\n",
       "      <td>29.5</td>\n",
       "      <td>79.950000</td>\n",
       "      <td>-3.450000</td>\n",
       "    </tr>\n",
       "    <tr>\n",
       "      <th>5</th>\n",
       "      <td>Magnus Warvik</td>\n",
       "      <td>M</td>\n",
       "      <td>22</td>\n",
       "      <td>23</td>\n",
       "      <td>23.0</td>\n",
       "      <td>78.300000</td>\n",
       "      <td>M</td>\n",
       "      <td>24</td>\n",
       "      <td>34</td>\n",
       "      <td>29.5</td>\n",
       "      <td>82.983333</td>\n",
       "      <td>-4.683333</td>\n",
       "    </tr>\n",
       "  </tbody>\n",
       "</table>\n",
       "</div>"
      ],
      "text/plain": [
       "                        Name Gender_1  From_1  To_1  Age_1  Minutes_1  \\\n",
       "0              Marius Vedvik        M      24    34   29.5  65.866667   \n",
       "1  Michael Ande Tesfamichael        M      24    34   29.5  72.933333   \n",
       "3    Kjetil Andre Bjerkrheim        M      24    34   29.5  76.400000   \n",
       "4          Runa Skrove Falch        K      24    34   29.5  76.500000   \n",
       "5              Magnus Warvik        M      22    23   23.0  78.300000   \n",
       "\n",
       "  Gender_2  From_2  To_2  Age_2  Minutes_2  Improvement  \n",
       "0        M      24    34   29.5  67.833333    -1.966667  \n",
       "1        M      24    34   29.5  74.516667    -1.583333  \n",
       "3        M      24    34   29.5  80.916667    -4.516667  \n",
       "4        K      24    34   29.5  79.950000    -3.450000  \n",
       "5        M      24    34   29.5  82.983333    -4.683333  "
      ]
     },
     "execution_count": 5,
     "metadata": {},
     "output_type": "execute_result"
    }
   ],
   "source": [
    "size = hm.groupby('Age_1')['Improvement'].size()\n",
    "size = size[size>5]\n",
    "hm = hm[(hm['Age_1']>=size.index.min()) & (hm['Age_1']<=size.index.max())]\n",
    "hm.head()"
   ]
  },
  {
   "cell_type": "markdown",
   "metadata": {},
   "source": [
    "### Target"
   ]
  },
  {
   "cell_type": "code",
   "execution_count": 6,
   "metadata": {},
   "outputs": [
    {
     "data": {
      "image/png": "[encoded data removed]",
      "text/plain": [
       "<Figure size 864x504 with 1 Axes>"
      ]
     },
     "metadata": {
      "needs_background": "light"
     },
     "output_type": "display_data"
    },
    {
     "name": "stdout",
     "output_type": "stream",
     "text": [
      "-0.5953355155482826 12.172613397034198\n"
     ]
    }
   ],
   "source": [
    "plt.subplots(figsize=(12, 7))\n",
    "plt.hist(hm['Improvement'], bins=100)\n",
    "plt.show()\n",
    "\n",
    "print(hm['Improvement'].mean(), hm['Improvement'].std())"
   ]
  },
  {
   "cell_type": "markdown",
   "metadata": {},
   "source": [
    "### Regression"
   ]
  },
  {
   "cell_type": "code",
   "execution_count": 7,
   "metadata": {},
   "outputs": [
    {
     "name": "stdout",
     "output_type": "stream",
     "text": [
      "                 Results: Ordinary least squares\n",
      "==================================================================\n",
      "Model:              OLS              Adj. R-squared:     0.042    \n",
      "Dependent Variable: Improvement      AIC:                4763.6981\n",
      "Date:               2023-01-09 07:55 BIC:                4772.5283\n",
      "No. Observations:   611              Log-Likelihood:     -2379.8  \n",
      "Df Model:           1                F-statistic:        27.78    \n",
      "Df Residuals:       609              Prob (F-statistic): 1.89e-07 \n",
      "R-squared:          0.044            Scale:              141.94   \n",
      "--------------------------------------------------------------------\n",
      "            Coef.    Std.Err.      t      P>|t|     [0.025    0.975]\n",
      "--------------------------------------------------------------------\n",
      "const       9.1827     1.9168    4.7906   0.0000    5.4183   12.9471\n",
      "Age_1      -0.2302     0.0437   -5.2705   0.0000   -0.3159   -0.1444\n",
      "------------------------------------------------------------------\n",
      "Omnibus:              47.145       Durbin-Watson:          2.078  \n",
      "Prob(Omnibus):        0.000        Jarque-Bera (JB):       149.868\n",
      "Skew:                 -0.307       Prob(JB):               0.000  \n",
      "Kurtosis:             5.347        Condition No.:          175    \n",
      "==================================================================\n",
      "\n"
     ]
    }
   ],
   "source": [
    "X = hm[['Age_1']]\n",
    "Y = hm['Improvement']\n",
    "\n",
    "X = sm.add_constant(X)\n",
    "model = sm.OLS(Y, X).fit()\n",
    "a = model.params[1]\n",
    "b = model.params[0]\n",
    "\n",
    "print(model.summary2())"
   ]
  },
  {
   "cell_type": "code",
   "execution_count": 8,
   "metadata": {},
   "outputs": [],
   "source": [
    "ci = model.conf_int()\n",
    "\n",
    "def minmaxci(x):\n",
    "    miny = maxy = x*ci.iloc[1,0]+ci.iloc[0,0]\n",
    "    for i in range(2):\n",
    "        for j in range(2):\n",
    "            y = x*ci.iloc[1,i]+ci.iloc[0,j]\n",
    "            miny = np.minimum(miny, y)\n",
    "            maxy = np.maximum(maxy, y)\n",
    "    return miny, maxy"
   ]
  },
  {
   "cell_type": "markdown",
   "metadata": {},
   "source": [
    "### Chart"
   ]
  },
  {
   "cell_type": "code",
   "execution_count": 9,
   "metadata": {},
   "outputs": [
    {
     "data": {
      "image/png": "[encoded data removed]",
      "text/plain": [
       "<Figure size 720x504 with 1 Axes>"
      ]
     },
     "metadata": {
      "needs_background": "light"
     },
     "output_type": "display_data"
    }
   ],
   "source": [
    "median = hm.groupby('Age_1')['Improvement'].median()\n",
    "x = median.index\n",
    "hma = list()\n",
    "for age in x:\n",
    "    hma.append(hm[hm['Age_1']==age]['Improvement'])\n",
    "    \n",
    "plt.figure(figsize=(10, 7))\n",
    "plt.title(f'{dif} year improvement of halfmarathon time', fontsize=12)\n",
    "plt.xlabel('Age', fontsize=12)\n",
    "plt.ylabel('Improvement (minutes)', fontsize=12)\n",
    "plt.boxplot(hma, positions=x)\n",
    "plt.axhline(y=0, linewidth=1, color='k')\n",
    "plt.plot(x, x*a+b, color='r')\n",
    "plt.fill_between(x, *minmaxci(x), alpha=0.1)\n",
    "plt.plot(x, median, linewidth=3)\n",
    "plt.show()"
   ]
  },
  {
   "cell_type": "markdown",
   "metadata": {},
   "source": [
    "### Result time by age"
   ]
  },
  {
   "cell_type": "code",
   "execution_count": 10,
   "metadata": {},
   "outputs": [
    {
     "data": {
      "image/png": "[encoded data removed]",
      "text/plain": [
       "<Figure size 720x504 with 1 Axes>"
      ]
     },
     "metadata": {
      "needs_background": "light"
     },
     "output_type": "display_data"
    }
   ],
   "source": [
    "from sklearn.pipeline import make_pipeline\n",
    "from sklearn.preprocessing import PolynomialFeatures\n",
    "from sklearn.linear_model import LinearRegression\n",
    "\n",
    "hm0 = pd.concat([hm1, hm2])\n",
    "hm0 = remove_pct(hm0, 'Minutes', 0.01)\n",
    "\n",
    "median = hm0.groupby('Age')['Minutes'].median()\n",
    "x = median.index\n",
    "\n",
    "x0 = x[4]\n",
    "scale = dif * (dif + 1) / 2\n",
    "const = (x0 * x0 * a / 2 + b * x0)/scale + median.iloc[4]\n",
    "xp = np.linspace(x.min(), x.max(), 1000)\n",
    "yp = const - (xp * xp * a / 2 + b * xp)/scale\n",
    "\n",
    "m = make_pipeline(PolynomialFeatures(2),LinearRegression())\n",
    "m.fit(hm0[['Age']], hm0['Minutes'])\n",
    "y2 = m.predict(pd.DataFrame({'Age': xp}))\n",
    "\n",
    "plt.figure(figsize=(10,7))\n",
    "plt.scatter(hm0['Age'], hm0['Minutes'])\n",
    "plt.xlabel('Age', fontsize=12)\n",
    "plt.ylabel('Time', fontsize=12)\n",
    "plt.plot(x, median, label='median')\n",
    "plt.plot(xp, y2, label='based on time')\n",
    "plt.plot(xp, yp, c='r', label='based on diff')\n",
    "plt.legend()\n",
    "plt.show()"
   ]
  }
 ],
 "metadata": {
  "kernelspec": {
   "display_name": "Python 3 (ipykernel)",
   "language": "python",
   "name": "python3"
  },
  "language_info": {
   "codemirror_mode": {
    "name": "ipython",
    "version": 3
   },
   "file_extension": ".py",
   "mimetype": "text/x-python",
   "name": "python",
   "nbconvert_exporter": "python",
   "pygments_lexer": "ipython3",
   "version": "3.9.12"
  }
 },
 "nbformat": 4,
 "nbformat_minor": 1
}
